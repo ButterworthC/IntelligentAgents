{
 "cells": [
  {
   "cell_type": "markdown",
   "id": "320ab7d2",
   "metadata": {},
   "source": [
    "# Intelligent Agents Individual Project"
   ]
  },
  {
   "cell_type": "markdown",
   "id": "1bd2a85f",
   "metadata": {},
   "source": [
    "This project will mimic one of the agents which were designed in Group A's project.\n",
    "The multi-agent system looked at the files on a disc specified by the user\n",
    "and built up a list of file types and how many of each were found,\n",
    "also checking their MIME types.<br>\n",
    "The agent to be built here is the Stats agent.  From the group project:\n",
    "\"The Stats reactive agent builds up an array of file type descriptions, \n",
    "incrementing each type’s counter as it loops through the files.\n",
    "It outputs just this array, which will also include a count of \n",
    "extension/MIME mismatches for each type.\"<br>\n",
    "The file received from the Text agent will be in the KQML format,\n",
    "will be called \"text_agent_output.kqml\"\n",
    "and will contain a JSON section containing a list of the following string array:<br>\n",
    "<ul>\n",
    "<li>path_filename (\"c:\\myfolder\\myfile.ext\"),</li>\n",
    "<li>mime_type (\"text/plain\" etc.),</li>\n",
    "<li>right_type (\"TRUE\" or \"FALSE\"),</li>\n",
    "<li>summary (not used by Stats agent)</li>\n",
    "</ul>\n",
    "From this, the Stats agent will build up a list of unique file types,\n",
    "based on the extension in path_filename, and increment a counter for each type,\n",
    "sending this array in JSON format to the Report agent within a KQML message."
   ]
  },
  {
   "cell_type": "markdown",
   "id": "3cb7692b",
   "metadata": {},
   "source": [
    "<b>Libraries</b>"
   ]
  },
  {
   "cell_type": "code",
   "execution_count": 1,
   "id": "0bb7c351",
   "metadata": {},
   "outputs": [
    {
     "name": "stdout",
     "output_type": "stream",
     "text": [
      "kqml is installed\n"
     ]
    }
   ],
   "source": [
    "try:\n",
    "    import kqml\n",
    "    print(\"kqml is installed\")\n",
    "except ImportError:\n",
    "    print(\"kqml is NOT installed\")\n",
    "    !pip install pykqml\n",
    "    import kqml # supposed to help with KQML input and output\n",
    "                #but I had to work around it\n",
    "\n",
    "from kqml import KQMLModule, KQMLPerformative, KQMLDispatcher\n",
    "\n",
    "import json          # for parsing input data\n",
    "\n",
    "import numpy as np   # to enable array processing\n",
    "\n",
    "import socket        # communications\n",
    "\n",
    "import threading     # so receiver of KQML message can be in the same notebook as sender  "
   ]
  },
  {
   "cell_type": "markdown",
   "id": "020543bd",
   "metadata": {},
   "source": [
    "<b>Create the agentStats class</b>"
   ]
  },
  {
   "cell_type": "code",
   "execution_count": 2,
   "id": "98059736",
   "metadata": {},
   "outputs": [],
   "source": [
    "class agentStats(KQMLModule):\n",
    "    def __init__(self):\n",
    "        # Initialize the KQMLModule which will allow the agent to connect and listen\n",
    "        super().__init__(name=\"agentStats\")\n",
    "        print(\"agentStats listening\")\n",
    "\n",
    "    def receive_request(self, msg, content):\n",
    "        \"\"\"Handles incoming 'ask-one' requests and performs actions\"\"\"\n",
    "        print(\"Received request:\", content)\n",
    "\n",
    "        # Extract the content of the KQML message\n",
    "        task = content.get('task')\n",
    "        payload = content.get('payload')\n",
    "        \n",
    "        # Handle specific tasks (e.g., \"statistical-analysis\")\n",
    "        if task == 'statistical-analysis':\n",
    "            # Perform the statistical analysis on the file list (pseudo-code)\n",
    "            # load the files from the payload and process them.\n",
    "            file_list = eval(payload['file_list'])  # Using eval here for simplicity, better to use json.loads()\n",
    "\n",
    "            # Perform statistical analysis (pseudo-code, replace with your logic)\n",
    "            result = perform_statistical_analysis(file_list)\n",
    "\n",
    "            # Prepare the response in KQML format\n",
    "            reply = KQMLPerformative('tell')\n",
    "            reply.set('content', f'Analysis complete: {result}')\n",
    "            reply.set('in-reply-to', msg.get('reply-with'))\n",
    "\n",
    "            # Send back the reply\n",
    "            self.reply(msg, reply)\n",
    "\n",
    "    def receive_ask_one(self, msg, content):\n",
    "        \"\"\"Handles incoming 'ask-one' requests\"\"\"\n",
    "        self.receive_request(msg, content)"
   ]
  },
  {
   "cell_type": "code",
   "execution_count": 3,
   "id": "b6908297",
   "metadata": {},
   "outputs": [],
   "source": [
    "def perform_statistical_analysis(file_list):\n",
    "    \"\"\"Dummy statistical analysis function (replace with your actual logic)\"\"\"\n",
    "    # Example: Just count the number of files in the list\n",
    "    print(f\"Running perform_statistical_analysis(file_list) - len(file_list) = {len(file_list)}\")\n",
    "    return len(file_list)"
   ]
  },
  {
   "cell_type": "code",
   "execution_count": 4,
   "id": "fda53629",
   "metadata": {},
   "outputs": [
    {
     "name": "stdout",
     "output_type": "stream",
     "text": [
      "__main__\n"
     ]
    }
   ],
   "source": [
    "print(__name__)"
   ]
  },
  {
   "cell_type": "code",
   "execution_count": 5,
   "id": "4e268c3b",
   "metadata": {},
   "outputs": [
    {
     "name": "stdout",
     "output_type": "stream",
     "text": [
      "Initialising the agent\n"
     ]
    }
   ],
   "source": [
    "if __name__ == '__main__':\n",
    "    try:\n",
    "      # Initialize and start the agent\n",
    "      print(\"Initialising the agent\")\n",
    "      # unfortunately it won't do it and the error handler does not take over, so I had to comment it out\n",
    "      # agent = agentStats()\n",
    "\n",
    "      # # Start the KQML dispatcher to listen for incoming messages\n",
    "      # dispatcher = KQMLDispatcher(agent)\n",
    "      # dispatcher.start()\n",
    "    \n",
    "    except Exception as e:\n",
    "      print(f\"Error initialising the agent: {e}\")"
   ]
  },
  {
   "cell_type": "markdown",
   "id": "01d6a384",
   "metadata": {},
   "source": [
    "<b>Simulated input file</b>"
   ]
  },
  {
   "cell_type": "code",
   "execution_count": 6,
   "id": "8c7c0d94",
   "metadata": {},
   "outputs": [],
   "source": [
    "text_agent_output = '''\n",
    "(ask-one\n",
    "  :sender agentText\n",
    "  :receiver agentStats\n",
    "  :ontology \"statistical-analysis\"\n",
    "  :content \n",
    "  (analyze \n",
    "    :data-format \"json\"\n",
    "    :task \"statistical-analysis\"\n",
    "    :json-payload \n",
    "    \"{\n",
    "      'file_list': [\n",
    "        {'path_filename': 'c:\\\\myfolder\\\\myfile1.txt', 'mime_type': 'text/plain', 'right_type': 'TRUE', 'summary': 'N/A'},\n",
    "        {'path_filename': 'c:\\\\myfolder\\\\image1.jpg', 'mime_type': 'image/jpeg', 'right_type': 'TRUE', 'summary': 'N/A'},\n",
    "        {'path_filename': 'c:\\\\myfolder\\\\myfile2.txt', 'mime_type': 'text/plain', 'right_type': 'FALSE', 'summary': 'N/A'},\n",
    "        {'path_filename': 'c:\\\\myfolder\\\\slides1.ppt', 'mime_type': 'application/vnd.ms-powerpoint', 'right_type': 'TRUE', 'summary': 'N/A'},\n",
    "        {'path_filename': 'c:\\\\myfolder\\\\spreadsheet1.xls', 'mime_type': 'application/vnd.ms-excel', 'right_type': 'TRUE', 'summary': 'N/A'},\n",
    "        {'path_filename': 'c:\\\\myfolder\\\\myfile3.txt', 'mime_type': 'text/plain', 'right_type': 'TRUE', 'summary': 'N/A'},\n",
    "        {'path_filename': 'c:\\\\myfolder\\\\archive1.zip', 'mime_type': 'application/zip', 'right_type': 'TRUE', 'summary': 'N/A'},\n",
    "        {'path_filename': 'c:\\\\myfolder\\\\audio1.mp3', 'mime_type': 'audio/mpeg', 'right_type': 'TRUE', 'summary': 'N/A'},\n",
    "        {'path_filename': 'c:\\\\myfolder\\\\video1.mp4', 'mime_type': 'video/mp4', 'right_type': 'TRUE', 'summary': 'N/A'},\n",
    "        {'path_filename': 'c:\\\\myfolder\\\\document1.pdf', 'mime_type': 'application/pdf', 'right_type': 'TRUE', 'summary': 'N/A'}\n",
    "      ]\n",
    "    }\",\n",
    "    :output-file \"c:\\\\myfolder\\\\stats-agent-output-123.kqml\"\n",
    "  )\n",
    "  :reply-with \"stats-agent-output-123\"\n",
    ")\n",
    "'''"
   ]
  },
  {
   "cell_type": "code",
   "execution_count": 7,
   "id": "43302db9",
   "metadata": {},
   "outputs": [],
   "source": [
    "stats_agent_input = text_agent_output"
   ]
  },
  {
   "cell_type": "code",
   "execution_count": 8,
   "id": "5ad1cf69",
   "metadata": {},
   "outputs": [
    {
     "name": "stdout",
     "output_type": "stream",
     "text": [
      "\n",
      "(ask-one\n",
      "  :sender agentText\n",
      "  :receiver agentStats\n",
      "  :ontology \"statistical-analysis\"\n",
      "  :content \n",
      "  (analyze \n",
      "    :data-format \"json\"\n",
      "    :task \"statistical-analysis\"\n",
      "    :json-payload \n",
      "    \"{\n",
      "      'file_list': [\n",
      "        {'path_filename': 'c:\\myfolder\\myfile1.txt', 'mime_type': 'text/plain', 'right_type': 'TRUE', 'summary': 'N/A'},\n",
      "        {'path_filename': 'c:\\myfolder\\image1.jpg', 'mime_type': 'image/jpeg', 'right_type': 'TRUE', 'summary': 'N/A'},\n",
      "        {'path_filename': 'c:\\myfolder\\myfile2.txt', 'mime_type': 'text/plain', 'right_type': 'FALSE', 'summary': 'N/A'},\n",
      "        {'path_filename': 'c:\\myfolder\\slides1.ppt', 'mime_type': 'application/vnd.ms-powerpoint', 'right_type': 'TRUE', 'summary': 'N/A'},\n",
      "        {'path_filename': 'c:\\myfolder\\spreadsheet1.xls', 'mime_type': 'application/vnd.ms-excel', 'right_type': 'TRUE', 'summary': 'N/A'},\n",
      "        {'path_filename': 'c:\\myfolder\\myfile3.txt', 'mime_type': 'text/plain', 'right_type': 'TRUE', 'summary': 'N/A'},\n",
      "        {'path_filename': 'c:\\myfolder\\archive1.zip', 'mime_type': 'application/zip', 'right_type': 'TRUE', 'summary': 'N/A'},\n",
      "        {'path_filename': 'c:\\myfolder\\audio1.mp3', 'mime_type': 'audio/mpeg', 'right_type': 'TRUE', 'summary': 'N/A'},\n",
      "        {'path_filename': 'c:\\myfolder\\video1.mp4', 'mime_type': 'video/mp4', 'right_type': 'TRUE', 'summary': 'N/A'},\n",
      "        {'path_filename': 'c:\\myfolder\\document1.pdf', 'mime_type': 'application/pdf', 'right_type': 'TRUE', 'summary': 'N/A'}\n",
      "      ]\n",
      "    }\",\n",
      "    :output-file \"c:\\myfolder\\stats-agent-output-123.kqml\"\n",
      "  )\n",
      "  :reply-with \"stats-agent-output-123\"\n",
      ")\n",
      "\n"
     ]
    }
   ],
   "source": [
    "print(stats_agent_input)"
   ]
  },
  {
   "cell_type": "markdown",
   "id": "839faab8",
   "metadata": {},
   "source": [
    "<b>Parse the input</b>"
   ]
  },
  {
   "cell_type": "code",
   "execution_count": 9,
   "id": "c15eeda0",
   "metadata": {},
   "outputs": [
    {
     "name": "stdout",
     "output_type": "stream",
     "text": [
      "Error parsing KQML: \n",
      "\n",
      "Manually assigning values to Python variables instead\n",
      "sender: agentText\n",
      "receiver: agentStats\n",
      "ontology: statistical-analysis\n",
      "data_format: json\n",
      "task: statistical-analysis\n",
      "json_payload: \n",
      "{\n",
      "  \"file_list\": [\n",
      "    { \"path_filename\": \"c:\\\\myfolder\\\\myfile1.txt\", \"mime_type\": \"text/plain\", \"right_type\": \"TRUE\", \"summary\": \"N/A\"},\n",
      "    { \"path_filename\": \"c:\\\\myfolder\\\\image1.jpg\", \"mime_type\": \"image/jpeg\", \"right_type\": \"TRUE\", \"summary\": \"N/A\"},\n",
      "    { \"path_filename\": \"c:\\\\myfolder\\\\myfile2.txt\", \"mime_type\": \"text/plain\", \"right_type\": \"FALSE\", \"summary\": \"N/A\"},\n",
      "    { \"path_filename\": \"c:\\\\myfolder\\\\slides1.ppt\", \"mime_type\": \"application/vnd.ms-powerpoint\", \"right_type\": \"TRUE\", \"summary\": \"N/A\"},\n",
      "    { \"path_filename\": \"c:\\\\myfolder\\\\spreadsheet1.xls\", \"mime_type\": \"application/vnd.ms-excel\", \"right_type\": \"TRUE\", \"summary\": \"N/A\"},\n",
      "    { \"path_filename\": \"c:\\\\myfolder\\\\myfile3.txt\", \"mime_type\": \"text/plain\", \"right_type\": \"TRUE\", \"summary\": \"N/A\"},\n",
      "    { \"path_filename\": \"c:\\\\myfolder\\\\archive1.zip\", \"mime_type\": \"application/zip\", \"right_type\": \"TRUE\", \"summary\": \"N/A\"},\n",
      "    { \"path_filename\": \"c:\\\\myfolder\\\\audio1.mp3\", \"mime_type\": \"audio/mpeg\", \"right_type\": \"TRUE\", \"summary\": \"N/A\"},\n",
      "    { \"path_filename\": \"c:\\\\myfolder\\\\video1.mp4\", \"mime_type\": \"video/mp4\", \"right_type\": \"TRUE\", \"summary\": \"N/A\"},\n",
      "    { \"path_filename\": \"c:\\\\myfolder\\\\document1.pdf\", \"mime_type\": \"application/pdf\", \"right_type\": \"TRUE\", \"summary\": \"N/A\" }\n",
      "  ]\n",
      "}\n",
      "\n",
      "output_file: c:\\myfolder\\stats-agent-output-123.kqml\n"
     ]
    }
   ],
   "source": [
    "# Parse the KQML string into a KQMLPerformative object\n",
    "try:\n",
    "    kqml_msg = KQMLPerformative.from_string(stats_agent_input)\n",
    "    \n",
    "    # Extract the values of sender, receiver, ontology, and content\n",
    "    sender = kqml_msg.get('sender')\n",
    "    receiver = kqml_msg.get('receiver')\n",
    "    ontology = kqml_msg.get('ontology')\n",
    "    data_format = kqml_msg.get('data-format')\n",
    "    output_file = kqml_msg.get('output-file')\n",
    "    content = kqml_msg.get('content')\n",
    "    \n",
    "    # Parse the 'content' field as another KQMLPerformative\n",
    "    content_msg = KQMLPerformative.from_string(content)\n",
    "    \n",
    "    # Extract 'data-format' and 'task' from the 'content' message\n",
    "    data_format = content_msg.get('data-format')\n",
    "    task = content_msg.get('task')\n",
    "    \n",
    "except Exception as e:\n",
    "    print(f\"Error parsing KQML: {e}\")\n",
    "    print(\"Manually assigning values to Python variables instead\")\n",
    "    sender = 'agentText'\n",
    "    receiver = 'agentStats'\n",
    "    ontology = 'statistical-analysis'\n",
    "    data_format = 'json'\n",
    "    task = 'statistical-analysis'\n",
    "    output_file = 'c:\\myfolder\\stats-agent-output-123.kqml'\n",
    "\n",
    "    json_payload = \"\"\"\n",
    "{\n",
    "  \"file_list\": [\n",
    "    { \"path_filename\": \"c:\\\\\\\\myfolder\\\\\\\\myfile1.txt\", \"mime_type\": \"text/plain\", \"right_type\": \"TRUE\", \"summary\": \"N/A\"},\n",
    "    { \"path_filename\": \"c:\\\\\\\\myfolder\\\\\\\\image1.jpg\", \"mime_type\": \"image/jpeg\", \"right_type\": \"TRUE\", \"summary\": \"N/A\"},\n",
    "    { \"path_filename\": \"c:\\\\\\\\myfolder\\\\\\\\myfile2.txt\", \"mime_type\": \"text/plain\", \"right_type\": \"FALSE\", \"summary\": \"N/A\"},\n",
    "    { \"path_filename\": \"c:\\\\\\\\myfolder\\\\\\\\slides1.ppt\", \"mime_type\": \"application/vnd.ms-powerpoint\", \"right_type\": \"TRUE\", \"summary\": \"N/A\"},\n",
    "    { \"path_filename\": \"c:\\\\\\\\myfolder\\\\\\\\spreadsheet1.xls\", \"mime_type\": \"application/vnd.ms-excel\", \"right_type\": \"TRUE\", \"summary\": \"N/A\"},\n",
    "    { \"path_filename\": \"c:\\\\\\\\myfolder\\\\\\\\myfile3.txt\", \"mime_type\": \"text/plain\", \"right_type\": \"TRUE\", \"summary\": \"N/A\"},\n",
    "    { \"path_filename\": \"c:\\\\\\\\myfolder\\\\\\\\archive1.zip\", \"mime_type\": \"application/zip\", \"right_type\": \"TRUE\", \"summary\": \"N/A\"},\n",
    "    { \"path_filename\": \"c:\\\\\\\\myfolder\\\\\\\\audio1.mp3\", \"mime_type\": \"audio/mpeg\", \"right_type\": \"TRUE\", \"summary\": \"N/A\"},\n",
    "    { \"path_filename\": \"c:\\\\\\\\myfolder\\\\\\\\video1.mp4\", \"mime_type\": \"video/mp4\", \"right_type\": \"TRUE\", \"summary\": \"N/A\"},\n",
    "    { \"path_filename\": \"c:\\\\\\\\myfolder\\\\\\\\document1.pdf\", \"mime_type\": \"application/pdf\", \"right_type\": \"TRUE\", \"summary\": \"N/A\" }\n",
    "  ]\n",
    "}\n",
    "\"\"\"\n",
    "\n",
    "# Print these values\n",
    "print(f\"sender: {sender}\")\n",
    "print(f\"receiver: {receiver}\")\n",
    "print(f\"ontology: {ontology}\")\n",
    "print(f\"data_format: {data_format}\")\n",
    "print(f\"task: {task}\")\n",
    "print(f\"json_payload: {json_payload}\")\n",
    "print(f\"output_file: {output_file}\")\n"
   ]
  },
  {
   "cell_type": "markdown",
   "id": "addbebdb",
   "metadata": {},
   "source": [
    "<b>Parse the JSON payload and convert to a NumPy array</b>"
   ]
  },
  {
   "cell_type": "code",
   "execution_count": 10,
   "id": "55f65b41",
   "metadata": {},
   "outputs": [
    {
     "name": "stdout",
     "output_type": "stream",
     "text": [
      "[['c:\\\\myfolder\\\\myfile1.txt' 'TRUE']\n",
      " ['c:\\\\myfolder\\\\image1.jpg' 'TRUE']\n",
      " ['c:\\\\myfolder\\\\myfile2.txt' 'FALSE']\n",
      " ['c:\\\\myfolder\\\\slides1.ppt' 'TRUE']\n",
      " ['c:\\\\myfolder\\\\spreadsheet1.xls' 'TRUE']\n",
      " ['c:\\\\myfolder\\\\myfile3.txt' 'TRUE']\n",
      " ['c:\\\\myfolder\\\\archive1.zip' 'TRUE']\n",
      " ['c:\\\\myfolder\\\\audio1.mp3' 'TRUE']\n",
      " ['c:\\\\myfolder\\\\video1.mp4' 'TRUE']\n",
      " ['c:\\\\myfolder\\\\document1.pdf' 'TRUE']]\n"
     ]
    }
   ],
   "source": [
    "# Parse the JSON payload\n",
    "data = json.loads(json_payload)\n",
    "\n",
    "# Extract the file_list from the JSON\n",
    "file_list = data['file_list']\n",
    "\n",
    "# Convert the list of dictionaries into a 2D list with only the relevant fields\n",
    "list_of_files = [[file['path_filename'], file['right_type']] for file in file_list]\n",
    "\n",
    "# Convert the list of files into a NumPy array\n",
    "file_array = np.array(list_of_files)\n",
    "\n",
    "# Output the result\n",
    "print(file_array)"
   ]
  },
  {
   "cell_type": "markdown",
   "id": "2a40aaf0",
   "metadata": {},
   "source": [
    "<b>Analyse file array and create ouput data</b>"
   ]
  },
  {
   "cell_type": "code",
   "execution_count": 11,
   "id": "d5696c9c",
   "metadata": {},
   "outputs": [
    {
     "name": "stdout",
     "output_type": "stream",
     "text": [
      "{\n",
      "      \"extension_list\": [\n",
      "        { \"extension\": \"jpg\", \"count\": \"1\", \"false_count\": \"0\" },\n",
      "        { \"extension\": \"mp3\", \"count\": \"1\", \"false_count\": \"0\" },\n",
      "        { \"extension\": \"mp4\", \"count\": \"1\", \"false_count\": \"0\" },\n",
      "        { \"extension\": \"pdf\", \"count\": \"1\", \"false_count\": \"0\" },\n",
      "        { \"extension\": \"ppt\", \"count\": \"1\", \"false_count\": \"0\" },\n",
      "        { \"extension\": \"txt\", \"count\": \"3\", \"false_count\": \"1\" },\n",
      "        { \"extension\": \"xls\", \"count\": \"1\", \"false_count\": \"0\" },\n",
      "        { \"extension\": \"zip\", \"count\": \"1\", \"false_count\": \"0\" }  ]\n",
      "    }\n"
     ]
    }
   ],
   "source": [
    "# Initialize the output_data structure\n",
    "output_data = {\n",
    "    \"extension_list\": []\n",
    "}\n",
    "\n",
    "extension_counts = {}   # Dictionary to hold counts for extensions\n",
    "\n",
    "# Traverse the file_array\n",
    "for file_info in file_array:\n",
    "    file_path = file_info[0]            # Get the file path\n",
    "    right_type = file_info[1]           # Get the right_type\n",
    "    extension = file_path.split('.')[-1]  # Get the file extension\n",
    "\n",
    "    # Initialize the extension count dictionary if not already present\n",
    "    if extension not in extension_counts:\n",
    "        extension_counts[extension] = {'count': 0, 'false_count': 0}\n",
    "    \n",
    "    # Increment the count for this extension\n",
    "    extension_counts[extension]['count'] += 1\n",
    "    \n",
    "    # Increment the false count if right_type is FALSE\n",
    "    if right_type == 'FALSE':\n",
    "        extension_counts[extension]['false_count'] += 1\n",
    "\n",
    "# Populate the output_data with sorted extensions\n",
    "for ext in sorted(extension_counts.keys()):\n",
    "    counts = extension_counts[ext]\n",
    "    output_data[\"extension_list\"].append({\n",
    "        \"extension\": ext,\n",
    "        \"count\": str(counts['count']),          # Convert count to string\n",
    "        \"false_count\": str(counts['false_count'])  # Convert false_count to string\n",
    "    })\n",
    "  \n",
    "# Convert the output_data to JSON format\n",
    "json_output = \"{\\n      \\\"extension_list\\\": [\\n\"\n",
    "\n",
    "for i, ext in enumerate(output_data[\"extension_list\"]):\n",
    "    if i < len(output_data[\"extension_list\"]) - 1:\n",
    "        json_output = json_output + f\"        {{ \\\"extension\\\": \\\"{ext['extension']}\\\", \\\"count\\\": \\\"{ext['count']}\\\", \\\"false_count\\\": \\\"{ext['false_count']}\\\" }},\\n\"\n",
    "    else:\n",
    "        json_output = json_output + f\"        {{ \\\"extension\\\": \\\"{ext['extension']}\\\", \\\"count\\\": \\\"{ext['count']}\\\", \\\"false_count\\\": \\\"{ext['false_count']}\\\" }}\"\n",
    "\n",
    "json_output = json_output + \"  ]\\n    }\"\n",
    "\n",
    "print(json_output)\n"
   ]
  },
  {
   "cell_type": "markdown",
   "id": "a968de20",
   "metadata": {},
   "source": [
    "<b>Create output file</b>"
   ]
  },
  {
   "cell_type": "code",
   "execution_count": 12,
   "id": "76fc0173",
   "metadata": {},
   "outputs": [
    {
     "name": "stdout",
     "output_type": "stream",
     "text": [
      "\n",
      "(ask-one\n",
      "  :sender agentStats\n",
      "  :receiver agentReport\n",
      "  :ontology report-generation\n",
      "  :content\n",
      "  (generate-report\n",
      "    :task generate-report\n",
      "    :report-type summary\n",
      "    :data-format json\n",
      "    :json-payload\n",
      "    {\n",
      "      \"extension_list\": [\n",
      "        { \"extension\": \"jpg\", \"count\": \"1\", \"false_count\": \"0\" },\n",
      "        { \"extension\": \"mp3\", \"count\": \"1\", \"false_count\": \"0\" },\n",
      "        { \"extension\": \"mp4\", \"count\": \"1\", \"false_count\": \"0\" },\n",
      "        { \"extension\": \"pdf\", \"count\": \"1\", \"false_count\": \"0\" },\n",
      "        { \"extension\": \"ppt\", \"count\": \"1\", \"false_count\": \"0\" },\n",
      "        { \"extension\": \"txt\", \"count\": \"3\", \"false_count\": \"1\" },\n",
      "        { \"extension\": \"xls\", \"count\": \"1\", \"false_count\": \"0\" },\n",
      "        { \"extension\": \"zip\", \"count\": \"1\", \"false_count\": \"0\" }  ]\n",
      "    }\n",
      "  )\n",
      "  :reply-with report-agent-output-123\n",
      ")\n"
     ]
    }
   ],
   "source": [
    "output_sender = \"agentStats\"\n",
    "output_receiver = \"agentReport\"\n",
    "output_ontology = \"report-generation\"\n",
    "output_data_format = \"json\"\n",
    "output_task = \"generate-report\"\n",
    "output_report_type = \"summary\"\n",
    "output_json_payload = json_output\n",
    "output_file = \"c:\\\\myfolder\\\\report-agent-output-123.kqml\"\n",
    "output_reply_with = \"report-agent-output-123\"\n",
    "    \n",
    "stats_agent_output = f'''\n",
    "(ask-one\n",
    "  :sender {output_sender}\n",
    "  :receiver {output_receiver}\n",
    "  :ontology {output_ontology}\n",
    "  :content\n",
    "  (generate-report\n",
    "    :task {output_task}\n",
    "    :report-type {output_report_type}\n",
    "    :data-format {output_data_format}\n",
    "    :json-payload\n",
    "    {json_output}\n",
    "  )\n",
    "  :reply-with {output_reply_with}\n",
    ")'''\n",
    "    \n",
    "print(stats_agent_output)"
   ]
  },
  {
   "cell_type": "code",
   "execution_count": 13,
   "id": "5fbf8b58",
   "metadata": {},
   "outputs": [],
   "source": [
    "# Define the receiver (agentReport)\n",
    "def receive_kqml_message(host='localhost', port=12345):\n",
    "    print(\"Running receive_kqml_message() in agentReport\\n\")\n",
    "    with socket.socket(socket.AF_INET, socket.SOCK_STREAM) as s:\n",
    "        s.bind((host, port))  # Bind to the port to listen for incoming connections\n",
    "        s.listen()\n",
    "        print(f\"agentReport is listening on {host}:{port}...\")\n",
    "        conn, addr = s.accept()  # Accept connection from agentStats\n",
    "        with conn:\n",
    "            print(f\"Connected by {addr}\")\n",
    "            data = conn.recv(1024).decode('utf-8')  # Receive the KQML message as bytes\n",
    "            print(f\"KQML message received by agentReport:\\n{data}\")\n",
    "\n",
    "# Define the sender (agentStats)\n",
    "def send_kqml_message(kqml_message, host='localhost', port=12345):\n",
    "    try:\n",
    "        print(\"Running send_kqml_message() in agentStats\")\n",
    "        with socket.socket(socket.AF_INET, socket.SOCK_STREAM) as s:\n",
    "            s.connect((host, port))  # Connect to agentReport\n",
    "            s.sendall(kqml_message.encode('utf-8'))  # Send KQML message as bytes\n",
    "            print(\"Message sent by agentStats.\\n\")\n",
    "    except ConnectionRefusedError:\n",
    "        print(f\"Connection refused! Is agentReport running and listening on {host}:{port}?\")\n",
    "\n",
    "\n"
   ]
  },
  {
   "cell_type": "markdown",
   "id": "726b3469",
   "metadata": {},
   "source": [
    "<b>Start agentReport and get it to listen for the message</b>"
   ]
  },
  {
   "cell_type": "code",
   "execution_count": 14,
   "id": "a2250c5b",
   "metadata": {},
   "outputs": [
    {
     "name": "stdout",
     "output_type": "stream",
     "text": [
      "Running receive_kqml_message() in agentReport\n",
      "now go to sleep\n",
      "\n",
      "agentReport is listening on localhost:12345...\n",
      "awake again\n"
     ]
    }
   ],
   "source": [
    "# Start the receiver in a separate thread\n",
    "receiver_thread = threading.Thread(target=receive_kqml_message, args=('localhost', 12345))\n",
    "receiver_thread.start()\n",
    "\n",
    "print(\"now go to sleep\")\n",
    "\n",
    "# Give the receiver some time to start (this is crucial for synchronous execution)\n",
    "import time\n",
    "time.sleep(2)\n",
    "\n",
    "print(\"awake again\")"
   ]
  },
  {
   "cell_type": "markdown",
   "id": "2350bf0d",
   "metadata": {},
   "source": [
    "<b>Back in agentStats, send the multi-line string stats_agent_output to agentReport</b>"
   ]
  },
  {
   "cell_type": "code",
   "execution_count": 15,
   "id": "6003e0ef",
   "metadata": {},
   "outputs": [
    {
     "name": "stdout",
     "output_type": "stream",
     "text": [
      "Running send_kqml_message() in agentStats\n",
      "Message sent by agentStats.\n",
      "\n",
      "Connected by ('127.0.0.1', 54112)\n",
      "KQML message received by agentReport:\n",
      "\n",
      "(ask-one\n",
      "  :sender agentStats\n",
      "  :receiver agentReport\n",
      "  :ontology report-generation\n",
      "  :content\n",
      "  (generate-report\n",
      "    :task generate-report\n",
      "    :report-type summary\n",
      "    :data-format json\n",
      "    :json-payload\n",
      "    {\n",
      "      \"extension_list\": [\n",
      "        { \"extension\": \"jpg\", \"count\": \"1\", \"false_count\": \"0\" },\n",
      "        { \"extension\": \"mp3\", \"count\": \"1\", \"false_count\": \"0\" },\n",
      "        { \"extension\": \"mp4\", \"count\": \"1\", \"false_count\": \"0\" },\n",
      "        { \"extension\": \"pdf\", \"count\": \"1\", \"false_count\": \"0\" },\n",
      "        { \"extension\": \"ppt\", \"count\": \"1\", \"false_count\": \"0\" },\n",
      "        { \"extension\": \"txt\", \"count\": \"3\", \"false_count\": \"1\" },\n",
      "        { \"extension\": \"xls\", \"count\": \"1\", \"false_count\": \"0\" },\n",
      "        { \"extension\": \"zip\", \"count\": \"1\", \"false_count\": \"0\" }  ]\n",
      "    }\n",
      "  )\n",
      "  :reply-with report-agent-output-123\n",
      ")\n"
     ]
    }
   ],
   "source": [
    "# Send the KQML message from the sender\n",
    "send_kqml_message(stats_agent_output, 'localhost', 12345)\n",
    "\n",
    "# Wait for the receiver to finish (optional, for clean shutdown)\n",
    "receiver_thread.join()"
   ]
  }
 ],
 "metadata": {
  "kernelspec": {
   "display_name": "Python 3 (ipykernel)",
   "language": "python",
   "name": "python3"
  },
  "language_info": {
   "codemirror_mode": {
    "name": "ipython",
    "version": 3
   },
   "file_extension": ".py",
   "mimetype": "text/x-python",
   "name": "python",
   "nbconvert_exporter": "python",
   "pygments_lexer": "ipython3",
   "version": "3.11.7"
  }
 },
 "nbformat": 4,
 "nbformat_minor": 5
}
